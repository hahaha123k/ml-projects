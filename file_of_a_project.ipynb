{
  "cells": [
    {
      "cell_type": "code",
      "execution_count": 1,
      "metadata": {
        "id": "Nhp2KQ6TqXGv"
      },
      "outputs": [],
      "source": [
        "import numpy as np\n",
        "import matplotlib.pyplot as plt\n",
        "import pandas as pd"
      ]
    },
    {
      "cell_type": "code",
      "execution_count": 2,
      "metadata": {
        "id": "3G4wEy9IsqhO"
      },
      "outputs": [],
      "source": [
        "url = 'https://raw.githubusercontent.com/mwitiderrick/stockprice/master/NSE-TATAGLOBAL.csv'\n",
        "dataset_train = pd.read_csv(url)\n",
        "training_set = dataset_train.iloc[:, 1:2].values"
      ]
    },
    {
      "cell_type": "code",
      "execution_count": 3,
      "metadata": {
        "colab": {
          "base_uri": "https://localhost:8080/",
          "height": 424
        },
        "id": "ofXbOnY1swYg",
        "outputId": "af6f8235-5608-4fab-a53d-ba439ba64fc4"
      },
      "outputs": [
        {
          "output_type": "execute_result",
          "data": {
            "text/plain": [
              "            Date    Open    High     Low    Last   Close  \\\n",
              "0     2018-09-28  234.05  235.95  230.20  233.50  233.75   \n",
              "1     2018-09-27  234.55  236.80  231.10  233.80  233.25   \n",
              "2     2018-09-26  240.00  240.00  232.50  235.00  234.25   \n",
              "3     2018-09-25  233.30  236.75  232.00  236.25  236.10   \n",
              "4     2018-09-24  233.55  239.20  230.75  234.00  233.30   \n",
              "...          ...     ...     ...     ...     ...     ...   \n",
              "2030  2010-07-27  117.60  119.50  112.00  118.80  118.65   \n",
              "2031  2010-07-26  120.10  121.00  117.10  117.10  117.60   \n",
              "2032  2010-07-23  121.80  121.95  120.25  120.35  120.65   \n",
              "2033  2010-07-22  120.30  122.00  120.25  120.75  120.90   \n",
              "2034  2010-07-21  122.10  123.00  121.05  121.10  121.55   \n",
              "\n",
              "      Total Trade Quantity  Turnover (Lacs)  \n",
              "0                  3069914          7162.35  \n",
              "1                  5082859         11859.95  \n",
              "2                  2240909          5248.60  \n",
              "3                  2349368          5503.90  \n",
              "4                  3423509          7999.55  \n",
              "...                    ...              ...  \n",
              "2030                586100           694.98  \n",
              "2031                658440           780.01  \n",
              "2032                281312           340.31  \n",
              "2033                293312           355.17  \n",
              "2034                658666           803.56  \n",
              "\n",
              "[2035 rows x 8 columns]"
            ],
            "text/html": [
              "\n",
              "  <div id=\"df-72c0b13e-a58d-413a-858b-1dd5393826df\">\n",
              "    <div class=\"colab-df-container\">\n",
              "      <div>\n",
              "<style scoped>\n",
              "    .dataframe tbody tr th:only-of-type {\n",
              "        vertical-align: middle;\n",
              "    }\n",
              "\n",
              "    .dataframe tbody tr th {\n",
              "        vertical-align: top;\n",
              "    }\n",
              "\n",
              "    .dataframe thead th {\n",
              "        text-align: right;\n",
              "    }\n",
              "</style>\n",
              "<table border=\"1\" class=\"dataframe\">\n",
              "  <thead>\n",
              "    <tr style=\"text-align: right;\">\n",
              "      <th></th>\n",
              "      <th>Date</th>\n",
              "      <th>Open</th>\n",
              "      <th>High</th>\n",
              "      <th>Low</th>\n",
              "      <th>Last</th>\n",
              "      <th>Close</th>\n",
              "      <th>Total Trade Quantity</th>\n",
              "      <th>Turnover (Lacs)</th>\n",
              "    </tr>\n",
              "  </thead>\n",
              "  <tbody>\n",
              "    <tr>\n",
              "      <th>0</th>\n",
              "      <td>2018-09-28</td>\n",
              "      <td>234.05</td>\n",
              "      <td>235.95</td>\n",
              "      <td>230.20</td>\n",
              "      <td>233.50</td>\n",
              "      <td>233.75</td>\n",
              "      <td>3069914</td>\n",
              "      <td>7162.35</td>\n",
              "    </tr>\n",
              "    <tr>\n",
              "      <th>1</th>\n",
              "      <td>2018-09-27</td>\n",
              "      <td>234.55</td>\n",
              "      <td>236.80</td>\n",
              "      <td>231.10</td>\n",
              "      <td>233.80</td>\n",
              "      <td>233.25</td>\n",
              "      <td>5082859</td>\n",
              "      <td>11859.95</td>\n",
              "    </tr>\n",
              "    <tr>\n",
              "      <th>2</th>\n",
              "      <td>2018-09-26</td>\n",
              "      <td>240.00</td>\n",
              "      <td>240.00</td>\n",
              "      <td>232.50</td>\n",
              "      <td>235.00</td>\n",
              "      <td>234.25</td>\n",
              "      <td>2240909</td>\n",
              "      <td>5248.60</td>\n",
              "    </tr>\n",
              "    <tr>\n",
              "      <th>3</th>\n",
              "      <td>2018-09-25</td>\n",
              "      <td>233.30</td>\n",
              "      <td>236.75</td>\n",
              "      <td>232.00</td>\n",
              "      <td>236.25</td>\n",
              "      <td>236.10</td>\n",
              "      <td>2349368</td>\n",
              "      <td>5503.90</td>\n",
              "    </tr>\n",
              "    <tr>\n",
              "      <th>4</th>\n",
              "      <td>2018-09-24</td>\n",
              "      <td>233.55</td>\n",
              "      <td>239.20</td>\n",
              "      <td>230.75</td>\n",
              "      <td>234.00</td>\n",
              "      <td>233.30</td>\n",
              "      <td>3423509</td>\n",
              "      <td>7999.55</td>\n",
              "    </tr>\n",
              "    <tr>\n",
              "      <th>...</th>\n",
              "      <td>...</td>\n",
              "      <td>...</td>\n",
              "      <td>...</td>\n",
              "      <td>...</td>\n",
              "      <td>...</td>\n",
              "      <td>...</td>\n",
              "      <td>...</td>\n",
              "      <td>...</td>\n",
              "    </tr>\n",
              "    <tr>\n",
              "      <th>2030</th>\n",
              "      <td>2010-07-27</td>\n",
              "      <td>117.60</td>\n",
              "      <td>119.50</td>\n",
              "      <td>112.00</td>\n",
              "      <td>118.80</td>\n",
              "      <td>118.65</td>\n",
              "      <td>586100</td>\n",
              "      <td>694.98</td>\n",
              "    </tr>\n",
              "    <tr>\n",
              "      <th>2031</th>\n",
              "      <td>2010-07-26</td>\n",
              "      <td>120.10</td>\n",
              "      <td>121.00</td>\n",
              "      <td>117.10</td>\n",
              "      <td>117.10</td>\n",
              "      <td>117.60</td>\n",
              "      <td>658440</td>\n",
              "      <td>780.01</td>\n",
              "    </tr>\n",
              "    <tr>\n",
              "      <th>2032</th>\n",
              "      <td>2010-07-23</td>\n",
              "      <td>121.80</td>\n",
              "      <td>121.95</td>\n",
              "      <td>120.25</td>\n",
              "      <td>120.35</td>\n",
              "      <td>120.65</td>\n",
              "      <td>281312</td>\n",
              "      <td>340.31</td>\n",
              "    </tr>\n",
              "    <tr>\n",
              "      <th>2033</th>\n",
              "      <td>2010-07-22</td>\n",
              "      <td>120.30</td>\n",
              "      <td>122.00</td>\n",
              "      <td>120.25</td>\n",
              "      <td>120.75</td>\n",
              "      <td>120.90</td>\n",
              "      <td>293312</td>\n",
              "      <td>355.17</td>\n",
              "    </tr>\n",
              "    <tr>\n",
              "      <th>2034</th>\n",
              "      <td>2010-07-21</td>\n",
              "      <td>122.10</td>\n",
              "      <td>123.00</td>\n",
              "      <td>121.05</td>\n",
              "      <td>121.10</td>\n",
              "      <td>121.55</td>\n",
              "      <td>658666</td>\n",
              "      <td>803.56</td>\n",
              "    </tr>\n",
              "  </tbody>\n",
              "</table>\n",
              "<p>2035 rows × 8 columns</p>\n",
              "</div>\n",
              "      <button class=\"colab-df-convert\" onclick=\"convertToInteractive('df-72c0b13e-a58d-413a-858b-1dd5393826df')\"\n",
              "              title=\"Convert this dataframe to an interactive table.\"\n",
              "              style=\"display:none;\">\n",
              "        \n",
              "  <svg xmlns=\"http://www.w3.org/2000/svg\" height=\"24px\"viewBox=\"0 0 24 24\"\n",
              "       width=\"24px\">\n",
              "    <path d=\"M0 0h24v24H0V0z\" fill=\"none\"/>\n",
              "    <path d=\"M18.56 5.44l.94 2.06.94-2.06 2.06-.94-2.06-.94-.94-2.06-.94 2.06-2.06.94zm-11 1L8.5 8.5l.94-2.06 2.06-.94-2.06-.94L8.5 2.5l-.94 2.06-2.06.94zm10 10l.94 2.06.94-2.06 2.06-.94-2.06-.94-.94-2.06-.94 2.06-2.06.94z\"/><path d=\"M17.41 7.96l-1.37-1.37c-.4-.4-.92-.59-1.43-.59-.52 0-1.04.2-1.43.59L10.3 9.45l-7.72 7.72c-.78.78-.78 2.05 0 2.83L4 21.41c.39.39.9.59 1.41.59.51 0 1.02-.2 1.41-.59l7.78-7.78 2.81-2.81c.8-.78.8-2.07 0-2.86zM5.41 20L4 18.59l7.72-7.72 1.47 1.35L5.41 20z\"/>\n",
              "  </svg>\n",
              "      </button>\n",
              "      \n",
              "  <style>\n",
              "    .colab-df-container {\n",
              "      display:flex;\n",
              "      flex-wrap:wrap;\n",
              "      gap: 12px;\n",
              "    }\n",
              "\n",
              "    .colab-df-convert {\n",
              "      background-color: #E8F0FE;\n",
              "      border: none;\n",
              "      border-radius: 50%;\n",
              "      cursor: pointer;\n",
              "      display: none;\n",
              "      fill: #1967D2;\n",
              "      height: 32px;\n",
              "      padding: 0 0 0 0;\n",
              "      width: 32px;\n",
              "    }\n",
              "\n",
              "    .colab-df-convert:hover {\n",
              "      background-color: #E2EBFA;\n",
              "      box-shadow: 0px 1px 2px rgba(60, 64, 67, 0.3), 0px 1px 3px 1px rgba(60, 64, 67, 0.15);\n",
              "      fill: #174EA6;\n",
              "    }\n",
              "\n",
              "    [theme=dark] .colab-df-convert {\n",
              "      background-color: #3B4455;\n",
              "      fill: #D2E3FC;\n",
              "    }\n",
              "\n",
              "    [theme=dark] .colab-df-convert:hover {\n",
              "      background-color: #434B5C;\n",
              "      box-shadow: 0px 1px 3px 1px rgba(0, 0, 0, 0.15);\n",
              "      filter: drop-shadow(0px 1px 2px rgba(0, 0, 0, 0.3));\n",
              "      fill: #FFFFFF;\n",
              "    }\n",
              "  </style>\n",
              "\n",
              "      <script>\n",
              "        const buttonEl =\n",
              "          document.querySelector('#df-72c0b13e-a58d-413a-858b-1dd5393826df button.colab-df-convert');\n",
              "        buttonEl.style.display =\n",
              "          google.colab.kernel.accessAllowed ? 'block' : 'none';\n",
              "\n",
              "        async function convertToInteractive(key) {\n",
              "          const element = document.querySelector('#df-72c0b13e-a58d-413a-858b-1dd5393826df');\n",
              "          const dataTable =\n",
              "            await google.colab.kernel.invokeFunction('convertToInteractive',\n",
              "                                                     [key], {});\n",
              "          if (!dataTable) return;\n",
              "\n",
              "          const docLinkHtml = 'Like what you see? Visit the ' +\n",
              "            '<a target=\"_blank\" href=https://colab.research.google.com/notebooks/data_table.ipynb>data table notebook</a>'\n",
              "            + ' to learn more about interactive tables.';\n",
              "          element.innerHTML = '';\n",
              "          dataTable['output_type'] = 'display_data';\n",
              "          await google.colab.output.renderOutput(dataTable, element);\n",
              "          const docLink = document.createElement('div');\n",
              "          docLink.innerHTML = docLinkHtml;\n",
              "          element.appendChild(docLink);\n",
              "        }\n",
              "      </script>\n",
              "    </div>\n",
              "  </div>\n",
              "  "
            ]
          },
          "metadata": {},
          "execution_count": 3
        }
      ],
      "source": [
        "dataset_train"
      ]
    },
    {
      "cell_type": "code",
      "execution_count": 4,
      "metadata": {
        "id": "HsVDaR9ss1CJ"
      },
      "outputs": [],
      "source": [
        "from sklearn.preprocessing import MinMaxScaler\n",
        "sc = MinMaxScaler(feature_range=(0,1))\n",
        "training_set_scaled = sc.fit_transform(training_set)"
      ]
    },
    {
      "cell_type": "code",
      "execution_count": 5,
      "metadata": {
        "id": "wvTIBIMvs9dm"
      },
      "outputs": [],
      "source": [
        "X_train = []\n",
        "y_train = []\n",
        "for i in range(60, 2035):\n",
        "  X_train.append(training_set_scaled[i-60:i, 0])\n",
        "  y_train.append(training_set_scaled[i, 0])\n",
        "X_train, y_train = np.array(X_train), np.array(y_train)\n",
        "X_train = np.reshape(X_train, (X_train.shape[0], X_train.shape[1], 1))"
      ]
    },
    {
      "cell_type": "code",
      "execution_count": 6,
      "metadata": {
        "id": "2OPyevTotamc"
      },
      "outputs": [],
      "source": [
        "from keras.models import Sequential\n",
        "from keras.layers import LSTM\n",
        "from keras.layers import Dropout\n",
        "from keras.layers import Dense"
      ]
    },
    {
      "cell_type": "code",
      "execution_count": 7,
      "metadata": {
        "colab": {
          "base_uri": "https://localhost:8080/"
        },
        "id": "s5JhlMlptgk4",
        "outputId": "5f1716b5-70c9-4589-e6ed-792194169a17"
      },
      "outputs": [
        {
          "output_type": "stream",
          "name": "stdout",
          "text": [
            "Epoch 1/100\n",
            "62/62 [==============================] - 27s 146ms/step - loss: 0.0085\n",
            "Epoch 2/100\n",
            "62/62 [==============================] - 7s 118ms/step - loss: 0.0033\n",
            "Epoch 3/100\n",
            "62/62 [==============================] - 7s 118ms/step - loss: 0.0025\n",
            "Epoch 4/100\n",
            "62/62 [==============================] - 7s 116ms/step - loss: 0.0028\n",
            "Epoch 5/100\n",
            "62/62 [==============================] - 7s 119ms/step - loss: 0.0023\n",
            "Epoch 6/100\n",
            "62/62 [==============================] - 7s 119ms/step - loss: 0.0034\n",
            "Epoch 7/100\n",
            "62/62 [==============================] - 7s 119ms/step - loss: 0.0023\n",
            "Epoch 8/100\n",
            "62/62 [==============================] - 7s 120ms/step - loss: 0.0019\n",
            "Epoch 9/100\n",
            "62/62 [==============================] - 7s 119ms/step - loss: 0.0020\n",
            "Epoch 10/100\n",
            "62/62 [==============================] - 7s 118ms/step - loss: 0.0021\n",
            "Epoch 11/100\n",
            "62/62 [==============================] - 7s 118ms/step - loss: 0.0018\n",
            "Epoch 12/100\n",
            "62/62 [==============================] - 7s 117ms/step - loss: 0.0018\n",
            "Epoch 13/100\n",
            "62/62 [==============================] - 9s 147ms/step - loss: 0.0017\n",
            "Epoch 14/100\n",
            "62/62 [==============================] - 8s 128ms/step - loss: 0.0016\n",
            "Epoch 15/100\n",
            "62/62 [==============================] - 15s 244ms/step - loss: 0.0015\n",
            "Epoch 16/100\n",
            "62/62 [==============================] - 12s 191ms/step - loss: 0.0016\n",
            "Epoch 17/100\n",
            "62/62 [==============================] - 7s 118ms/step - loss: 0.0014\n",
            "Epoch 18/100\n",
            "62/62 [==============================] - 7s 117ms/step - loss: 0.0017\n",
            "Epoch 19/100\n",
            "62/62 [==============================] - 7s 119ms/step - loss: 0.0015\n",
            "Epoch 20/100\n",
            "62/62 [==============================] - 7s 120ms/step - loss: 0.0016\n",
            "Epoch 21/100\n",
            "62/62 [==============================] - 7s 119ms/step - loss: 0.0015\n",
            "Epoch 22/100\n",
            "62/62 [==============================] - 7s 119ms/step - loss: 0.0014\n",
            "Epoch 23/100\n",
            "62/62 [==============================] - 7s 118ms/step - loss: 0.0014\n",
            "Epoch 24/100\n",
            "62/62 [==============================] - 7s 119ms/step - loss: 0.0014\n",
            "Epoch 25/100\n",
            "62/62 [==============================] - 7s 118ms/step - loss: 0.0013\n",
            "Epoch 26/100\n",
            "62/62 [==============================] - 7s 118ms/step - loss: 0.0013\n",
            "Epoch 27/100\n",
            "62/62 [==============================] - 7s 118ms/step - loss: 0.0012\n",
            "Epoch 28/100\n",
            "62/62 [==============================] - 9s 146ms/step - loss: 0.0011\n",
            "Epoch 29/100\n",
            "62/62 [==============================] - 7s 120ms/step - loss: 0.0011\n",
            "Epoch 30/100\n",
            "62/62 [==============================] - 7s 118ms/step - loss: 0.0012\n",
            "Epoch 31/100\n",
            "62/62 [==============================] - 7s 119ms/step - loss: 0.0011\n",
            "Epoch 32/100\n",
            "62/62 [==============================] - 7s 120ms/step - loss: 0.0011\n",
            "Epoch 33/100\n",
            "62/62 [==============================] - 7s 120ms/step - loss: 9.2056e-04\n",
            "Epoch 34/100\n",
            "62/62 [==============================] - 7s 119ms/step - loss: 9.4188e-04\n",
            "Epoch 35/100\n",
            "62/62 [==============================] - 7s 121ms/step - loss: 0.0010\n",
            "Epoch 36/100\n",
            "62/62 [==============================] - 7s 120ms/step - loss: 0.0010\n",
            "Epoch 37/100\n",
            "62/62 [==============================] - 8s 122ms/step - loss: 9.1830e-04\n",
            "Epoch 38/100\n",
            "62/62 [==============================] - 7s 118ms/step - loss: 9.6093e-04\n",
            "Epoch 39/100\n",
            "62/62 [==============================] - 7s 121ms/step - loss: 0.0011\n",
            "Epoch 40/100\n",
            "62/62 [==============================] - 8s 134ms/step - loss: 9.0477e-04\n",
            "Epoch 41/100\n",
            "62/62 [==============================] - 8s 122ms/step - loss: 8.7167e-04\n",
            "Epoch 42/100\n",
            "62/62 [==============================] - 7s 120ms/step - loss: 8.8528e-04\n",
            "Epoch 43/100\n",
            "62/62 [==============================] - 7s 120ms/step - loss: 9.2723e-04\n",
            "Epoch 44/100\n",
            "62/62 [==============================] - 7s 119ms/step - loss: 9.5472e-04\n",
            "Epoch 45/100\n",
            "62/62 [==============================] - 7s 117ms/step - loss: 8.8793e-04\n",
            "Epoch 46/100\n",
            "62/62 [==============================] - 7s 116ms/step - loss: 9.2099e-04\n",
            "Epoch 47/100\n",
            "62/62 [==============================] - 7s 117ms/step - loss: 8.4858e-04\n",
            "Epoch 48/100\n",
            "62/62 [==============================] - 7s 116ms/step - loss: 8.4516e-04\n",
            "Epoch 49/100\n",
            "62/62 [==============================] - 7s 116ms/step - loss: 8.8827e-04\n",
            "Epoch 50/100\n",
            "62/62 [==============================] - 7s 117ms/step - loss: 9.3164e-04\n",
            "Epoch 51/100\n",
            "62/62 [==============================] - 7s 119ms/step - loss: 9.1361e-04\n",
            "Epoch 52/100\n",
            "62/62 [==============================] - 7s 119ms/step - loss: 8.2580e-04\n",
            "Epoch 53/100\n",
            "62/62 [==============================] - 7s 120ms/step - loss: 9.8471e-04\n",
            "Epoch 54/100\n",
            "62/62 [==============================] - 7s 120ms/step - loss: 7.9489e-04\n",
            "Epoch 55/100\n",
            "62/62 [==============================] - 7s 119ms/step - loss: 7.6583e-04\n",
            "Epoch 56/100\n",
            "62/62 [==============================] - 8s 122ms/step - loss: 7.2269e-04\n",
            "Epoch 57/100\n",
            "62/62 [==============================] - 7s 120ms/step - loss: 7.6824e-04\n",
            "Epoch 58/100\n",
            "62/62 [==============================] - 7s 119ms/step - loss: 8.3274e-04\n",
            "Epoch 59/100\n",
            "62/62 [==============================] - 7s 117ms/step - loss: 8.4012e-04\n",
            "Epoch 60/100\n",
            "62/62 [==============================] - 7s 118ms/step - loss: 7.4357e-04\n",
            "Epoch 61/100\n",
            "62/62 [==============================] - 7s 117ms/step - loss: 7.7580e-04\n",
            "Epoch 62/100\n",
            "62/62 [==============================] - 7s 117ms/step - loss: 7.8027e-04\n",
            "Epoch 63/100\n",
            "62/62 [==============================] - 7s 117ms/step - loss: 6.7930e-04\n",
            "Epoch 64/100\n",
            "62/62 [==============================] - 7s 118ms/step - loss: 7.7304e-04\n",
            "Epoch 65/100\n",
            "62/62 [==============================] - 7s 118ms/step - loss: 8.3361e-04\n",
            "Epoch 66/100\n",
            "62/62 [==============================] - 7s 119ms/step - loss: 7.2412e-04\n",
            "Epoch 67/100\n",
            "62/62 [==============================] - 10s 159ms/step - loss: 7.1370e-04\n",
            "Epoch 68/100\n",
            "62/62 [==============================] - 7s 121ms/step - loss: 7.7011e-04\n",
            "Epoch 69/100\n",
            "62/62 [==============================] - 8s 121ms/step - loss: 6.3456e-04\n",
            "Epoch 70/100\n",
            "62/62 [==============================] - 8s 133ms/step - loss: 7.3237e-04\n",
            "Epoch 71/100\n",
            "62/62 [==============================] - 7s 121ms/step - loss: 7.6557e-04\n",
            "Epoch 72/100\n",
            "62/62 [==============================] - 7s 120ms/step - loss: 8.5687e-04\n",
            "Epoch 73/100\n",
            "62/62 [==============================] - 7s 120ms/step - loss: 6.7728e-04\n",
            "Epoch 74/100\n",
            "62/62 [==============================] - 7s 119ms/step - loss: 6.8671e-04\n",
            "Epoch 75/100\n",
            "62/62 [==============================] - 7s 120ms/step - loss: 7.0379e-04\n",
            "Epoch 76/100\n",
            "62/62 [==============================] - 7s 120ms/step - loss: 7.0939e-04\n",
            "Epoch 77/100\n",
            "62/62 [==============================] - 7s 119ms/step - loss: 6.5955e-04\n",
            "Epoch 78/100\n",
            "62/62 [==============================] - 7s 120ms/step - loss: 6.9432e-04\n",
            "Epoch 79/100\n",
            "62/62 [==============================] - 7s 120ms/step - loss: 6.6555e-04\n",
            "Epoch 80/100\n",
            "62/62 [==============================] - 7s 119ms/step - loss: 7.5764e-04\n",
            "Epoch 81/100\n",
            "62/62 [==============================] - 7s 119ms/step - loss: 7.0923e-04\n",
            "Epoch 82/100\n",
            "62/62 [==============================] - 7s 121ms/step - loss: 7.0218e-04\n",
            "Epoch 83/100\n",
            "62/62 [==============================] - 8s 121ms/step - loss: 7.1875e-04\n",
            "Epoch 84/100\n",
            "62/62 [==============================] - 7s 121ms/step - loss: 6.7987e-04\n",
            "Epoch 85/100\n",
            "62/62 [==============================] - 7s 120ms/step - loss: 6.3162e-04\n",
            "Epoch 86/100\n",
            "62/62 [==============================] - 7s 119ms/step - loss: 6.5734e-04\n",
            "Epoch 87/100\n",
            "62/62 [==============================] - 7s 120ms/step - loss: 6.8732e-04\n",
            "Epoch 88/100\n",
            "62/62 [==============================] - 7s 121ms/step - loss: 8.3098e-04\n",
            "Epoch 89/100\n",
            "62/62 [==============================] - 8s 121ms/step - loss: 6.8111e-04\n",
            "Epoch 90/100\n",
            "62/62 [==============================] - 8s 121ms/step - loss: 7.0297e-04\n",
            "Epoch 91/100\n",
            "62/62 [==============================] - 7s 120ms/step - loss: 6.6195e-04\n",
            "Epoch 92/100\n",
            "62/62 [==============================] - 8s 121ms/step - loss: 5.9069e-04\n",
            "Epoch 93/100\n",
            "62/62 [==============================] - 7s 121ms/step - loss: 6.8139e-04\n",
            "Epoch 94/100\n",
            "62/62 [==============================] - 7s 119ms/step - loss: 5.9019e-04\n",
            "Epoch 95/100\n",
            "62/62 [==============================] - 7s 120ms/step - loss: 7.3117e-04\n",
            "Epoch 96/100\n",
            "62/62 [==============================] - 7s 119ms/step - loss: 5.9793e-04\n",
            "Epoch 97/100\n",
            "62/62 [==============================] - 7s 120ms/step - loss: 5.8061e-04\n",
            "Epoch 98/100\n",
            "62/62 [==============================] - 7s 119ms/step - loss: 5.9242e-04\n",
            "Epoch 99/100\n",
            "62/62 [==============================] - 7s 121ms/step - loss: 6.2720e-04\n",
            "Epoch 100/100\n",
            "62/62 [==============================] - 8s 134ms/step - loss: 6.5971e-04\n"
          ]
        },
        {
          "output_type": "execute_result",
          "data": {
            "text/plain": [
              "<keras.callbacks.History at 0x7f912f8d7220>"
            ]
          },
          "metadata": {},
          "execution_count": 7
        }
      ],
      "source": [
        "model = Sequential()\n",
        "model.add(LSTM(units=50,return_sequences=True,input_shape=(X_train.shape[1], 1)))\n",
        "model.add(Dropout(0.2))\n",
        "model.add(LSTM(units=50,return_sequences=True))\n",
        "model.add(Dropout(0.2))\n",
        "model.add(LSTM(units=50,return_sequences=True))\n",
        "model.add(Dropout(0.2))\n",
        "model.add(LSTM(units=50))\n",
        "model.add(Dropout(0.2))\n",
        "model.add(Dense(units=1))\n",
        "model.compile(optimizer='adam',loss='mean_squared_error')\n",
        "model.fit(X_train,y_train,epochs=100,batch_size=32)"
      ]
    },
    {
      "cell_type": "code",
      "execution_count": 8,
      "metadata": {
        "id": "-XepeSagwdgk"
      },
      "outputs": [],
      "source": [
        "url = 'https://raw.githubusercontent.com/mwitiderrick/stockprice/master/tatatest.csv'\n",
        "dataset_test = pd.read_csv(url)\n",
        "real_stock_price = dataset_test.iloc[:, 1:2].values"
      ]
    },
    {
      "cell_type": "code",
      "execution_count": 9,
      "metadata": {
        "colab": {
          "base_uri": "https://localhost:8080/"
        },
        "id": "GZIQEj-Uwh8c",
        "outputId": "e51f8d24-b4ec-4426-9c13-08f9d465d199"
      },
      "outputs": [
        {
          "output_type": "stream",
          "name": "stdout",
          "text": [
            "1/1 [==============================] - 2s 2s/step\n"
          ]
        }
      ],
      "source": [
        "dataset_total = pd.concat((dataset_train['Open'], dataset_test['Open']), axis = 0)\n",
        "inputs = dataset_total[len(dataset_total) - len(dataset_test) - 60:].values\n",
        "inputs = inputs.reshape(-1,1)\n",
        "inputs = sc.transform(inputs)\n",
        "X_test = []\n",
        "for i in range(60, 76):\n",
        "  X_test.append(inputs[i-60:i, 0])\n",
        "X_test = np.array(X_test)\n",
        "X_test = np.reshape(X_test, (X_test.shape[0], X_test.shape[1], 1))\n",
        "predicted_stock_price = model.predict(X_test)\n",
        "predicted_stock_price = sc.inverse_transform(predicted_stock_price) "
      ]
    },
    {
      "cell_type": "code",
      "execution_count": 10,
      "metadata": {
        "colab": {
          "base_uri": "https://localhost:8080/",
          "height": 295
        },
        "id": "eOP0bpbewyFc",
        "outputId": "abf7921d-ccaa-44be-ce25-adfaf50bd258"
      },
      "outputs": [
        {
          "output_type": "display_data",
          "data": {
            "text/plain": [
              "<Figure size 432x288 with 1 Axes>"
            ],
            "image/png": "[encoded data removed]"
          },
          "metadata": {
            "needs_background": "light"
          }
        }
      ],
      "source": [
        "plt.plot(real_stock_price, color = 'black', label = 'TATA Stock Price')\n",
        "plt.plot(predicted_stock_price, color = 'green', label = 'Predicted TATA Stock Price')\n",
        "plt.title('TATA Stock Price Prediction')\n",
        "plt.xlabel('Time')\n",
        "plt.ylabel('TATA Stock Price')\n",
        "plt.legend()\n",
        "plt.show()\n"
      ]
    },
    {
      "cell_type": "code",
      "execution_count": 11,
      "metadata": {
        "id": "4zk73xgZxMBI"
      },
      "outputs": [],
      "source": [
        "X_train = []\n",
        "y_train = []\n",
        "for i in range(60, len(training_set_scaled)):\n",
        "    X_train.append(training_set_scaled[i-60: i, 0])\n",
        "    y_train.append(training_set_scaled[i, 0])\n",
        "X_train, y_train = np.array(X_train), np.array(y_train)"
      ]
    },
    {
      "cell_type": "code",
      "execution_count": 12,
      "metadata": {
        "id": "mua7rhmbzBZo"
      },
      "outputs": [],
      "source": [
        "X_train = np.reshape(X_train, newshape = (X_train.shape[0], X_train.shape[1], 1))"
      ]
    },
    {
      "cell_type": "code",
      "execution_count": 13,
      "metadata": {
        "id": "6WkaJfNxzG58"
      },
      "outputs": [],
      "source": [
        "regressor = Sequential()"
      ]
    },
    {
      "cell_type": "code",
      "execution_count": 14,
      "metadata": {
        "id": "yogSQaFqzPM8"
      },
      "outputs": [],
      "source": [
        "regressor.add(LSTM(units = 50, return_sequences = True, input_shape = (X_train.shape[1], 1)))\n",
        "regressor.add(Dropout(rate = 0.2))"
      ]
    },
    {
      "cell_type": "code",
      "execution_count": 15,
      "metadata": {
        "id": "-9RtN30izV3g"
      },
      "outputs": [],
      "source": [
        "##add 2nd lstm layer\n",
        "regressor.add(LSTM(units = 50, return_sequences = True))\n",
        "regressor.add(Dropout(rate = 0.2))\n",
        "##add 3rd lstm layer\n",
        "regressor.add(LSTM(units = 50, return_sequences = True))\n",
        "regressor.add(Dropout(rate = 0.2))\n",
        "##add 4th lstm layer\n",
        "regressor.add(LSTM(units = 50, return_sequences = False))\n",
        "regressor.add(Dropout(rate = 0.2))"
      ]
    },
    {
      "cell_type": "code",
      "execution_count": 16,
      "metadata": {
        "id": "gkMUZ2PIzdoG"
      },
      "outputs": [],
      "source": [
        "regressor.add(Dense(units = 1))"
      ]
    },
    {
      "cell_type": "code",
      "execution_count": 17,
      "metadata": {
        "id": "KtL3uMxuziDO"
      },
      "outputs": [],
      "source": [
        "regressor.compile( optimizer = 'adam', loss = 'mean_squared_error')  "
      ]
    },
    {
      "cell_type": "code",
      "execution_count": 18,
      "metadata": {
        "colab": {
          "base_uri": "https://localhost:8080/"
        },
        "id": "TlFVSduHz7kD",
        "outputId": "36b06243-b09b-435a-a89b-ed4a483a09c4"
      },
      "outputs": [
        {
          "output_type": "stream",
          "name": "stdout",
          "text": [
            "Epoch 1/100\n",
            "62/62 [==============================] - 15s 120ms/step - loss: 0.0064\n",
            "Epoch 2/100\n",
            "62/62 [==============================] - 7s 118ms/step - loss: 0.0033\n",
            "Epoch 3/100\n",
            "62/62 [==============================] - 7s 117ms/step - loss: 0.0028\n",
            "Epoch 4/100\n",
            "62/62 [==============================] - 7s 118ms/step - loss: 0.0033\n",
            "Epoch 5/100\n",
            "62/62 [==============================] - 7s 119ms/step - loss: 0.0022\n",
            "Epoch 6/100\n",
            "62/62 [==============================] - 7s 117ms/step - loss: 0.0021\n",
            "Epoch 7/100\n",
            "62/62 [==============================] - 7s 117ms/step - loss: 0.0020\n",
            "Epoch 8/100\n",
            "62/62 [==============================] - 7s 120ms/step - loss: 0.0022\n",
            "Epoch 9/100\n",
            "62/62 [==============================] - 7s 120ms/step - loss: 0.0022\n",
            "Epoch 10/100\n",
            "62/62 [==============================] - 7s 119ms/step - loss: 0.0021\n",
            "Epoch 11/100\n",
            "62/62 [==============================] - 7s 119ms/step - loss: 0.0019\n",
            "Epoch 12/100\n",
            "62/62 [==============================] - 7s 118ms/step - loss: 0.0017\n",
            "Epoch 13/100\n",
            "62/62 [==============================] - 7s 120ms/step - loss: 0.0017\n",
            "Epoch 14/100\n",
            "62/62 [==============================] - 7s 119ms/step - loss: 0.0017\n",
            "Epoch 15/100\n",
            "62/62 [==============================] - 7s 119ms/step - loss: 0.0015\n",
            "Epoch 16/100\n",
            "62/62 [==============================] - 7s 118ms/step - loss: 0.0014\n",
            "Epoch 17/100\n",
            "62/62 [==============================] - 7s 118ms/step - loss: 0.0015\n",
            "Epoch 18/100\n",
            "62/62 [==============================] - 7s 119ms/step - loss: 0.0014\n",
            "Epoch 19/100\n",
            "62/62 [==============================] - 7s 119ms/step - loss: 0.0014\n",
            "Epoch 20/100\n",
            "62/62 [==============================] - 7s 119ms/step - loss: 0.0014\n",
            "Epoch 21/100\n",
            "62/62 [==============================] - 7s 119ms/step - loss: 0.0014\n",
            "Epoch 22/100\n",
            "62/62 [==============================] - 7s 119ms/step - loss: 0.0013\n",
            "Epoch 23/100\n",
            "62/62 [==============================] - 7s 118ms/step - loss: 0.0014\n",
            "Epoch 24/100\n",
            "62/62 [==============================] - 8s 129ms/step - loss: 0.0013\n",
            "Epoch 25/100\n",
            "62/62 [==============================] - 7s 118ms/step - loss: 0.0013\n",
            "Epoch 26/100\n",
            "62/62 [==============================] - 7s 119ms/step - loss: 0.0010\n",
            "Epoch 27/100\n",
            "62/62 [==============================] - 7s 118ms/step - loss: 0.0012\n",
            "Epoch 28/100\n",
            "62/62 [==============================] - 7s 118ms/step - loss: 0.0011\n",
            "Epoch 29/100\n",
            "62/62 [==============================] - 7s 118ms/step - loss: 0.0011\n",
            "Epoch 30/100\n",
            "62/62 [==============================] - 7s 118ms/step - loss: 0.0011\n",
            "Epoch 31/100\n",
            "62/62 [==============================] - 7s 118ms/step - loss: 0.0011\n",
            "Epoch 32/100\n",
            "62/62 [==============================] - 7s 118ms/step - loss: 0.0011\n",
            "Epoch 33/100\n",
            "62/62 [==============================] - 7s 118ms/step - loss: 9.8800e-04\n",
            "Epoch 34/100\n",
            "62/62 [==============================] - 7s 119ms/step - loss: 0.0011\n",
            "Epoch 35/100\n",
            "62/62 [==============================] - 7s 119ms/step - loss: 0.0011\n",
            "Epoch 36/100\n",
            "62/62 [==============================] - 7s 118ms/step - loss: 0.0010\n",
            "Epoch 37/100\n",
            "62/62 [==============================] - 7s 119ms/step - loss: 9.2924e-04\n",
            "Epoch 38/100\n",
            "62/62 [==============================] - 7s 118ms/step - loss: 9.4579e-04\n",
            "Epoch 39/100\n",
            "62/62 [==============================] - 7s 118ms/step - loss: 0.0010\n",
            "Epoch 40/100\n",
            "62/62 [==============================] - 7s 117ms/step - loss: 9.1692e-04\n",
            "Epoch 41/100\n",
            "62/62 [==============================] - 7s 118ms/step - loss: 0.0010\n",
            "Epoch 42/100\n",
            "62/62 [==============================] - 7s 120ms/step - loss: 8.3097e-04\n",
            "Epoch 43/100\n",
            "62/62 [==============================] - 7s 119ms/step - loss: 0.0010\n",
            "Epoch 44/100\n",
            "62/62 [==============================] - 7s 118ms/step - loss: 9.5349e-04\n",
            "Epoch 45/100\n",
            "62/62 [==============================] - 7s 119ms/step - loss: 8.4194e-04\n",
            "Epoch 46/100\n",
            "62/62 [==============================] - 7s 118ms/step - loss: 7.8027e-04\n",
            "Epoch 47/100\n",
            "62/62 [==============================] - 7s 118ms/step - loss: 8.6654e-04\n",
            "Epoch 48/100\n",
            "62/62 [==============================] - 7s 117ms/step - loss: 8.1533e-04\n",
            "Epoch 49/100\n",
            "62/62 [==============================] - 7s 117ms/step - loss: 8.1016e-04\n",
            "Epoch 50/100\n",
            "62/62 [==============================] - 7s 118ms/step - loss: 9.4164e-04\n",
            "Epoch 51/100\n",
            "62/62 [==============================] - 7s 118ms/step - loss: 7.8617e-04\n",
            "Epoch 52/100\n",
            "62/62 [==============================] - 7s 118ms/step - loss: 8.6442e-04\n",
            "Epoch 53/100\n",
            "62/62 [==============================] - 7s 117ms/step - loss: 8.3377e-04\n",
            "Epoch 54/100\n",
            "62/62 [==============================] - 7s 118ms/step - loss: 8.3488e-04\n",
            "Epoch 55/100\n",
            "62/62 [==============================] - 8s 130ms/step - loss: 8.2319e-04\n",
            "Epoch 56/100\n",
            "62/62 [==============================] - 7s 119ms/step - loss: 8.4596e-04\n",
            "Epoch 57/100\n",
            "62/62 [==============================] - 7s 118ms/step - loss: 7.6272e-04\n",
            "Epoch 58/100\n",
            "62/62 [==============================] - 7s 119ms/step - loss: 7.4426e-04\n",
            "Epoch 59/100\n",
            "62/62 [==============================] - 7s 120ms/step - loss: 7.8405e-04\n",
            "Epoch 60/100\n",
            "62/62 [==============================] - 7s 119ms/step - loss: 7.2481e-04\n",
            "Epoch 61/100\n",
            "62/62 [==============================] - 7s 118ms/step - loss: 7.7912e-04\n",
            "Epoch 62/100\n",
            "62/62 [==============================] - 7s 119ms/step - loss: 7.8297e-04\n",
            "Epoch 63/100\n",
            "62/62 [==============================] - 7s 119ms/step - loss: 7.0429e-04\n",
            "Epoch 64/100\n",
            "62/62 [==============================] - 7s 119ms/step - loss: 8.0075e-04\n",
            "Epoch 65/100\n",
            "62/62 [==============================] - 7s 119ms/step - loss: 8.2453e-04\n",
            "Epoch 66/100\n",
            "62/62 [==============================] - 7s 120ms/step - loss: 7.4074e-04\n",
            "Epoch 67/100\n",
            "62/62 [==============================] - 7s 118ms/step - loss: 8.1118e-04\n",
            "Epoch 68/100\n",
            "62/62 [==============================] - 7s 118ms/step - loss: 6.4713e-04\n",
            "Epoch 69/100\n",
            "62/62 [==============================] - 7s 120ms/step - loss: 8.7096e-04\n",
            "Epoch 70/100\n",
            "62/62 [==============================] - 7s 118ms/step - loss: 7.8397e-04\n",
            "Epoch 71/100\n",
            "62/62 [==============================] - 7s 118ms/step - loss: 7.4463e-04\n",
            "Epoch 72/100\n",
            "62/62 [==============================] - 7s 118ms/step - loss: 6.9907e-04\n",
            "Epoch 73/100\n",
            "62/62 [==============================] - 7s 118ms/step - loss: 7.5214e-04\n",
            "Epoch 74/100\n",
            "62/62 [==============================] - 7s 118ms/step - loss: 7.1230e-04\n",
            "Epoch 75/100\n",
            "62/62 [==============================] - 7s 120ms/step - loss: 7.7434e-04\n",
            "Epoch 76/100\n",
            "62/62 [==============================] - 7s 120ms/step - loss: 6.9125e-04\n",
            "Epoch 77/100\n",
            "62/62 [==============================] - 7s 120ms/step - loss: 7.7440e-04\n",
            "Epoch 78/100\n",
            "62/62 [==============================] - 7s 121ms/step - loss: 6.1331e-04\n",
            "Epoch 79/100\n",
            "62/62 [==============================] - 7s 120ms/step - loss: 7.0774e-04\n",
            "Epoch 80/100\n",
            "62/62 [==============================] - 7s 119ms/step - loss: 6.1693e-04\n",
            "Epoch 81/100\n",
            "62/62 [==============================] - 7s 119ms/step - loss: 7.5308e-04\n",
            "Epoch 82/100\n",
            "62/62 [==============================] - 7s 118ms/step - loss: 7.7839e-04\n",
            "Epoch 83/100\n",
            "62/62 [==============================] - 7s 119ms/step - loss: 5.7572e-04\n",
            "Epoch 84/100\n",
            "62/62 [==============================] - 7s 119ms/step - loss: 7.1733e-04\n",
            "Epoch 85/100\n",
            "62/62 [==============================] - 7s 119ms/step - loss: 6.4486e-04\n",
            "Epoch 86/100\n",
            "62/62 [==============================] - 8s 130ms/step - loss: 7.5047e-04\n",
            "Epoch 87/100\n",
            "62/62 [==============================] - 7s 119ms/step - loss: 5.9378e-04\n",
            "Epoch 88/100\n",
            "62/62 [==============================] - 7s 118ms/step - loss: 6.5560e-04\n",
            "Epoch 89/100\n",
            "62/62 [==============================] - 7s 119ms/step - loss: 7.0355e-04\n",
            "Epoch 90/100\n",
            "62/62 [==============================] - 7s 118ms/step - loss: 7.5426e-04\n",
            "Epoch 91/100\n",
            "62/62 [==============================] - 7s 118ms/step - loss: 6.6926e-04\n",
            "Epoch 92/100\n",
            "62/62 [==============================] - 7s 120ms/step - loss: 5.5653e-04\n",
            "Epoch 93/100\n",
            "62/62 [==============================] - 7s 118ms/step - loss: 6.5432e-04\n",
            "Epoch 94/100\n",
            "62/62 [==============================] - 7s 118ms/step - loss: 6.4361e-04\n",
            "Epoch 95/100\n",
            "62/62 [==============================] - 7s 118ms/step - loss: 6.5134e-04\n",
            "Epoch 96/100\n",
            "62/62 [==============================] - 7s 119ms/step - loss: 6.9436e-04\n",
            "Epoch 97/100\n",
            "62/62 [==============================] - 7s 119ms/step - loss: 5.9509e-04\n",
            "Epoch 98/100\n",
            "62/62 [==============================] - 7s 117ms/step - loss: 6.0536e-04\n",
            "Epoch 99/100\n",
            "62/62 [==============================] - 7s 118ms/step - loss: 6.3710e-04\n",
            "Epoch 100/100\n",
            "62/62 [==============================] - 7s 119ms/step - loss: 5.7116e-04\n"
          ]
        },
        {
          "output_type": "execute_result",
          "data": {
            "text/plain": [
              "<keras.callbacks.History at 0x7f912c251f40>"
            ]
          },
          "metadata": {},
          "execution_count": 18
        }
      ],
      "source": [
        "regressor.fit(x = X_train, y = y_train, batch_size = 32, epochs = 100)"
      ]
    },
    {
      "cell_type": "code",
      "execution_count": 19,
      "metadata": {
        "id": "hnZfyoOK4Mz0"
      },
      "outputs": [],
      "source": [
        "url = 'https://raw.githubusercontent.com/mwitiderrick/stockprice/master/tatatest.csv'\n",
        "dataset_test = pd.read_csv(url)\n",
        "real_stock_price = dataset_test.iloc[:, 1: 2].values"
      ]
    },
    {
      "cell_type": "code",
      "execution_count": 20,
      "metadata": {
        "id": "cbMQ6og04dsK"
      },
      "outputs": [],
      "source": [
        "dataset_total = pd.concat((dataset_train['Open'],dataset_test['Open']), axis=0)"
      ]
    },
    {
      "cell_type": "code",
      "execution_count": 21,
      "metadata": {
        "id": "nn2QnRxW4qdY"
      },
      "outputs": [],
      "source": [
        "inputs = dataset_total[len(dataset_total)-len(dataset_test)- 60: ].values"
      ]
    },
    {
      "cell_type": "code",
      "execution_count": 22,
      "metadata": {
        "id": "sPccBivu4yFO"
      },
      "outputs": [],
      "source": [
        "inputs = inputs.reshape(-1, 1)"
      ]
    },
    {
      "cell_type": "code",
      "execution_count": 23,
      "metadata": {
        "id": "QHLufH4r42CC"
      },
      "outputs": [],
      "source": [
        "inputs = sc.transform(inputs)"
      ]
    },
    {
      "cell_type": "code",
      "execution_count": 24,
      "metadata": {
        "id": "xzf3u_9649H9"
      },
      "outputs": [],
      "source": [
        "X_test = []\n",
        "for i in range(60, len(inputs)): \n",
        "    X_test.append(inputs[i-60: i, 0])\n",
        "X_test = np.array(X_test)\n",
        "    #make numpy array as 3D , adding num of indicator\n",
        "X_test = np.reshape(X_test, newshape = (X_test.shape[0], X_test.shape[1], 1))"
      ]
    },
    {
      "cell_type": "code",
      "execution_count": 25,
      "metadata": {
        "id": "QT9hxXAm5QSz",
        "outputId": "a488d62f-f1be-441a-8b42-d27647d8ecf1",
        "colab": {
          "base_uri": "https://localhost:8080/"
        }
      },
      "outputs": [
        {
          "output_type": "stream",
          "name": "stdout",
          "text": [
            "8/8 [==============================] - 2s 31ms/step\n"
          ]
        }
      ],
      "source": [
        "predicted_stock_price = regressor.predict(X_test)"
      ]
    },
    {
      "cell_type": "code",
      "execution_count": 26,
      "metadata": {
        "id": "1S3d9dGh5Qdt"
      },
      "outputs": [],
      "source": [
        "predicted_stock_price = sc.inverse_transform(predicted_stock_price)"
      ]
    },
    {
      "cell_type": "code",
      "execution_count": 27,
      "metadata": {
        "id": "3SBwIZHHDY93",
        "outputId": "2391d469-54c0-43f3-8da1-54dd9c273d3b",
        "colab": {
          "base_uri": "https://localhost:8080/",
          "height": 295
        }
      },
      "outputs": [
        {
          "output_type": "display_data",
          "data": {
            "text/plain": [
              "<Figure size 432x288 with 1 Axes>"
            ],
            "image/png": "[encoded data removed]"
          },
          "metadata": {
            "needs_background": "light"
          }
        }
      ],
      "source": [
        "plt.plot(real_stock_price, color = 'red', label = 'Real price')\n",
        "plt.plot(predicted_stock_price, color = 'blue', label = 'Predicted price')\n",
        "plt.title( 'STOCK Price Prediction' )\n",
        "plt.xlabel('Time')\n",
        "plt.ylabel('Price')\n",
        "plt.legend( )\n",
        "plt.show( )"
      ]
    },
    {
      "cell_type": "code",
      "execution_count": 27,
      "metadata": {
        "id": "kz7gMztbEH7Y"
      },
      "outputs": [],
      "source": []
    }
  ],
  "metadata": {
    "colab": {
      "provenance": []
    },
    "kernelspec": {
      "display_name": "Python 3",
      "name": "python3"
    },
    "language_info": {
      "name": "python"
    }
  },
  "nbformat": 4,
  "nbformat_minor": 0
}